{
 "cells": [
  {
   "cell_type": "markdown",
   "id": "38583c47-953b-4bff-9c4b-bee0c105114c",
   "metadata": {},
   "source": [
    "# Set up dependencies and env variables"
   ]
  },
  {
   "cell_type": "code",
   "execution_count": 1,
   "id": "ffa9ac0d-67eb-4a05-b834-8696fd836746",
   "metadata": {
    "scrolled": true
   },
   "outputs": [
    {
     "name": "stdout",
     "output_type": "stream",
     "text": [
      "Requirement already satisfied: cohere in /Users/stephen/Library/Caches/pypoetry/virtualenvs/search-at-scale-mbGucawx-py3.11/lib/python3.11/site-packages (5.5.8)\n",
      "Collecting cohere\n",
      "  Downloading cohere-5.8.1-py3-none-any.whl.metadata (3.4 kB)\n",
      "Requirement already satisfied: ollama in /Users/stephen/Library/Caches/pypoetry/virtualenvs/search-at-scale-mbGucawx-py3.11/lib/python3.11/site-packages (0.2.1)\n",
      "Collecting ollama\n",
      "  Downloading ollama-0.3.1-py3-none-any.whl.metadata (3.8 kB)\n",
      "Requirement already satisfied: openai in /Users/stephen/Library/Caches/pypoetry/virtualenvs/search-at-scale-mbGucawx-py3.11/lib/python3.11/site-packages (1.35.14)\n",
      "Collecting openai\n",
      "  Downloading openai-1.42.0-py3-none-any.whl.metadata (22 kB)\n",
      "Requirement already satisfied: pymilvus[model] in /Users/stephen/Library/Caches/pypoetry/virtualenvs/search-at-scale-mbGucawx-py3.11/lib/python3.11/site-packages (2.4.4)\n",
      "Collecting pymilvus[model]\n",
      "  Using cached pymilvus-2.4.5-py3-none-any.whl.metadata (5.6 kB)\n",
      "Requirement already satisfied: setuptools>69 in /Users/stephen/Library/Caches/pypoetry/virtualenvs/search-at-scale-mbGucawx-py3.11/lib/python3.11/site-packages (from pymilvus[model]) (70.3.0)\n",
      "Requirement already satisfied: grpcio<=1.63.0,>=1.49.1 in /Users/stephen/Library/Caches/pypoetry/virtualenvs/search-at-scale-mbGucawx-py3.11/lib/python3.11/site-packages (from pymilvus[model]) (1.63.0)\n",
      "Requirement already satisfied: protobuf>=3.20.0 in /Users/stephen/Library/Caches/pypoetry/virtualenvs/search-at-scale-mbGucawx-py3.11/lib/python3.11/site-packages (from pymilvus[model]) (5.27.2)\n",
      "Requirement already satisfied: environs<=9.5.0 in /Users/stephen/Library/Caches/pypoetry/virtualenvs/search-at-scale-mbGucawx-py3.11/lib/python3.11/site-packages (from pymilvus[model]) (9.5.0)\n",
      "Requirement already satisfied: ujson>=2.0.0 in /Users/stephen/Library/Caches/pypoetry/virtualenvs/search-at-scale-mbGucawx-py3.11/lib/python3.11/site-packages (from pymilvus[model]) (5.10.0)\n",
      "Requirement already satisfied: pandas>=1.2.4 in /Users/stephen/Library/Caches/pypoetry/virtualenvs/search-at-scale-mbGucawx-py3.11/lib/python3.11/site-packages (from pymilvus[model]) (2.2.2)\n",
      "Requirement already satisfied: milvus-lite<2.5.0,>=2.4.0 in /Users/stephen/Library/Caches/pypoetry/virtualenvs/search-at-scale-mbGucawx-py3.11/lib/python3.11/site-packages (from pymilvus[model]) (2.4.8)\n",
      "Collecting milvus-model>=0.1.0 (from pymilvus[model])\n",
      "  Downloading milvus_model-0.2.5-py3-none-any.whl.metadata (1.6 kB)\n",
      "Requirement already satisfied: boto3<2.0.0,>=1.34.0 in /Users/stephen/Library/Caches/pypoetry/virtualenvs/search-at-scale-mbGucawx-py3.11/lib/python3.11/site-packages (from cohere) (1.34.144)\n",
      "Requirement already satisfied: fastavro<2.0.0,>=1.9.4 in /Users/stephen/Library/Caches/pypoetry/virtualenvs/search-at-scale-mbGucawx-py3.11/lib/python3.11/site-packages (from cohere) (1.9.5)\n",
      "Requirement already satisfied: httpx>=0.21.2 in /Users/stephen/Library/Caches/pypoetry/virtualenvs/search-at-scale-mbGucawx-py3.11/lib/python3.11/site-packages (from cohere) (0.27.0)\n",
      "Requirement already satisfied: httpx-sse==0.4.0 in /Users/stephen/Library/Caches/pypoetry/virtualenvs/search-at-scale-mbGucawx-py3.11/lib/python3.11/site-packages (from cohere) (0.4.0)\n",
      "Requirement already satisfied: parameterized<0.10.0,>=0.9.0 in /Users/stephen/Library/Caches/pypoetry/virtualenvs/search-at-scale-mbGucawx-py3.11/lib/python3.11/site-packages (from cohere) (0.9.0)\n",
      "Requirement already satisfied: pydantic>=1.9.2 in /Users/stephen/Library/Caches/pypoetry/virtualenvs/search-at-scale-mbGucawx-py3.11/lib/python3.11/site-packages (from cohere) (2.8.2)\n",
      "Requirement already satisfied: pydantic-core<3.0.0,>=2.18.2 in /Users/stephen/Library/Caches/pypoetry/virtualenvs/search-at-scale-mbGucawx-py3.11/lib/python3.11/site-packages (from cohere) (2.20.1)\n",
      "Requirement already satisfied: requests<3.0.0,>=2.0.0 in /Users/stephen/Library/Caches/pypoetry/virtualenvs/search-at-scale-mbGucawx-py3.11/lib/python3.11/site-packages (from cohere) (2.32.3)\n",
      "Requirement already satisfied: tokenizers<1,>=0.15 in /Users/stephen/Library/Caches/pypoetry/virtualenvs/search-at-scale-mbGucawx-py3.11/lib/python3.11/site-packages (from cohere) (0.19.1)\n",
      "Requirement already satisfied: types-requests<3.0.0,>=2.0.0 in /Users/stephen/Library/Caches/pypoetry/virtualenvs/search-at-scale-mbGucawx-py3.11/lib/python3.11/site-packages (from cohere) (2.32.0.20240712)\n",
      "Requirement already satisfied: typing_extensions>=4.0.0 in /Users/stephen/Library/Caches/pypoetry/virtualenvs/search-at-scale-mbGucawx-py3.11/lib/python3.11/site-packages (from cohere) (4.12.2)\n",
      "Requirement already satisfied: anyio<5,>=3.5.0 in /Users/stephen/Library/Caches/pypoetry/virtualenvs/search-at-scale-mbGucawx-py3.11/lib/python3.11/site-packages (from openai) (4.4.0)\n",
      "Requirement already satisfied: distro<2,>=1.7.0 in /Users/stephen/Library/Caches/pypoetry/virtualenvs/search-at-scale-mbGucawx-py3.11/lib/python3.11/site-packages (from openai) (1.9.0)\n",
      "Collecting jiter<1,>=0.4.0 (from openai)\n",
      "  Using cached jiter-0.5.0-cp311-cp311-macosx_11_0_arm64.whl.metadata (3.6 kB)\n",
      "Requirement already satisfied: sniffio in /Users/stephen/Library/Caches/pypoetry/virtualenvs/search-at-scale-mbGucawx-py3.11/lib/python3.11/site-packages (from openai) (1.3.1)\n",
      "Requirement already satisfied: tqdm>4 in /Users/stephen/Library/Caches/pypoetry/virtualenvs/search-at-scale-mbGucawx-py3.11/lib/python3.11/site-packages (from openai) (4.66.4)\n",
      "Requirement already satisfied: idna>=2.8 in /Users/stephen/Library/Caches/pypoetry/virtualenvs/search-at-scale-mbGucawx-py3.11/lib/python3.11/site-packages (from anyio<5,>=3.5.0->openai) (3.7)\n",
      "Requirement already satisfied: botocore<1.35.0,>=1.34.144 in /Users/stephen/Library/Caches/pypoetry/virtualenvs/search-at-scale-mbGucawx-py3.11/lib/python3.11/site-packages (from boto3<2.0.0,>=1.34.0->cohere) (1.34.162)\n",
      "Requirement already satisfied: jmespath<2.0.0,>=0.7.1 in /Users/stephen/Library/Caches/pypoetry/virtualenvs/search-at-scale-mbGucawx-py3.11/lib/python3.11/site-packages (from boto3<2.0.0,>=1.34.0->cohere) (1.0.1)\n",
      "Requirement already satisfied: s3transfer<0.11.0,>=0.10.0 in /Users/stephen/Library/Caches/pypoetry/virtualenvs/search-at-scale-mbGucawx-py3.11/lib/python3.11/site-packages (from boto3<2.0.0,>=1.34.0->cohere) (0.10.2)\n",
      "Requirement already satisfied: marshmallow>=3.0.0 in /Users/stephen/Library/Caches/pypoetry/virtualenvs/search-at-scale-mbGucawx-py3.11/lib/python3.11/site-packages (from environs<=9.5.0->pymilvus[model]) (3.21.3)\n",
      "Requirement already satisfied: python-dotenv in /Users/stephen/Library/Caches/pypoetry/virtualenvs/search-at-scale-mbGucawx-py3.11/lib/python3.11/site-packages (from environs<=9.5.0->pymilvus[model]) (1.0.1)\n",
      "Requirement already satisfied: certifi in /Users/stephen/Library/Caches/pypoetry/virtualenvs/search-at-scale-mbGucawx-py3.11/lib/python3.11/site-packages (from httpx>=0.21.2->cohere) (2024.7.4)\n",
      "Requirement already satisfied: httpcore==1.* in /Users/stephen/Library/Caches/pypoetry/virtualenvs/search-at-scale-mbGucawx-py3.11/lib/python3.11/site-packages (from httpx>=0.21.2->cohere) (1.0.5)\n",
      "Requirement already satisfied: h11<0.15,>=0.13 in /Users/stephen/Library/Caches/pypoetry/virtualenvs/search-at-scale-mbGucawx-py3.11/lib/python3.11/site-packages (from httpcore==1.*->httpx>=0.21.2->cohere) (0.14.0)\n",
      "Requirement already satisfied: transformers>=4.36.0 in /Users/stephen/Library/Caches/pypoetry/virtualenvs/search-at-scale-mbGucawx-py3.11/lib/python3.11/site-packages (from milvus-model>=0.1.0->pymilvus[model]) (4.42.4)\n",
      "Collecting onnxruntime (from milvus-model>=0.1.0->pymilvus[model])\n",
      "  Downloading onnxruntime-1.19.0-cp311-cp311-macosx_11_0_universal2.whl.metadata (4.3 kB)\n",
      "Requirement already satisfied: scipy>=1.10.0 in /Users/stephen/Library/Caches/pypoetry/virtualenvs/search-at-scale-mbGucawx-py3.11/lib/python3.11/site-packages (from milvus-model>=0.1.0->pymilvus[model]) (1.14.0)\n",
      "Requirement already satisfied: numpy in /Users/stephen/Library/Caches/pypoetry/virtualenvs/search-at-scale-mbGucawx-py3.11/lib/python3.11/site-packages (from milvus-model>=0.1.0->pymilvus[model]) (2.0.0)\n",
      "Requirement already satisfied: python-dateutil>=2.8.2 in /Users/stephen/Library/Caches/pypoetry/virtualenvs/search-at-scale-mbGucawx-py3.11/lib/python3.11/site-packages (from pandas>=1.2.4->pymilvus[model]) (2.9.0.post0)\n",
      "Requirement already satisfied: pytz>=2020.1 in /Users/stephen/Library/Caches/pypoetry/virtualenvs/search-at-scale-mbGucawx-py3.11/lib/python3.11/site-packages (from pandas>=1.2.4->pymilvus[model]) (2024.1)\n",
      "Requirement already satisfied: tzdata>=2022.7 in /Users/stephen/Library/Caches/pypoetry/virtualenvs/search-at-scale-mbGucawx-py3.11/lib/python3.11/site-packages (from pandas>=1.2.4->pymilvus[model]) (2024.1)\n",
      "Requirement already satisfied: annotated-types>=0.4.0 in /Users/stephen/Library/Caches/pypoetry/virtualenvs/search-at-scale-mbGucawx-py3.11/lib/python3.11/site-packages (from pydantic>=1.9.2->cohere) (0.7.0)\n",
      "Requirement already satisfied: charset-normalizer<4,>=2 in /Users/stephen/Library/Caches/pypoetry/virtualenvs/search-at-scale-mbGucawx-py3.11/lib/python3.11/site-packages (from requests<3.0.0,>=2.0.0->cohere) (3.3.2)\n",
      "Requirement already satisfied: urllib3<3,>=1.21.1 in /Users/stephen/Library/Caches/pypoetry/virtualenvs/search-at-scale-mbGucawx-py3.11/lib/python3.11/site-packages (from requests<3.0.0,>=2.0.0->cohere) (2.2.2)\n",
      "Requirement already satisfied: huggingface-hub<1.0,>=0.16.4 in /Users/stephen/Library/Caches/pypoetry/virtualenvs/search-at-scale-mbGucawx-py3.11/lib/python3.11/site-packages (from tokenizers<1,>=0.15->cohere) (0.23.4)\n",
      "Requirement already satisfied: filelock in /Users/stephen/Library/Caches/pypoetry/virtualenvs/search-at-scale-mbGucawx-py3.11/lib/python3.11/site-packages (from huggingface-hub<1.0,>=0.16.4->tokenizers<1,>=0.15->cohere) (3.15.4)\n",
      "Requirement already satisfied: fsspec>=2023.5.0 in /Users/stephen/Library/Caches/pypoetry/virtualenvs/search-at-scale-mbGucawx-py3.11/lib/python3.11/site-packages (from huggingface-hub<1.0,>=0.16.4->tokenizers<1,>=0.15->cohere) (2024.6.1)\n",
      "Requirement already satisfied: packaging>=20.9 in /Users/stephen/Library/Caches/pypoetry/virtualenvs/search-at-scale-mbGucawx-py3.11/lib/python3.11/site-packages (from huggingface-hub<1.0,>=0.16.4->tokenizers<1,>=0.15->cohere) (24.1)\n",
      "Requirement already satisfied: pyyaml>=5.1 in /Users/stephen/Library/Caches/pypoetry/virtualenvs/search-at-scale-mbGucawx-py3.11/lib/python3.11/site-packages (from huggingface-hub<1.0,>=0.16.4->tokenizers<1,>=0.15->cohere) (6.0.1)\n",
      "Requirement already satisfied: six>=1.5 in /Users/stephen/Library/Caches/pypoetry/virtualenvs/search-at-scale-mbGucawx-py3.11/lib/python3.11/site-packages (from python-dateutil>=2.8.2->pandas>=1.2.4->pymilvus[model]) (1.16.0)\n",
      "Collecting numpy (from milvus-model>=0.1.0->pymilvus[model])\n",
      "  Using cached numpy-1.26.4-cp311-cp311-macosx_11_0_arm64.whl.metadata (114 kB)\n",
      "Requirement already satisfied: regex!=2019.12.17 in /Users/stephen/Library/Caches/pypoetry/virtualenvs/search-at-scale-mbGucawx-py3.11/lib/python3.11/site-packages (from transformers>=4.36.0->milvus-model>=0.1.0->pymilvus[model]) (2024.5.15)\n",
      "Requirement already satisfied: safetensors>=0.4.1 in /Users/stephen/Library/Caches/pypoetry/virtualenvs/search-at-scale-mbGucawx-py3.11/lib/python3.11/site-packages (from transformers>=4.36.0->milvus-model>=0.1.0->pymilvus[model]) (0.4.3)\n",
      "Collecting coloredlogs (from onnxruntime->milvus-model>=0.1.0->pymilvus[model])\n",
      "  Using cached coloredlogs-15.0.1-py2.py3-none-any.whl.metadata (12 kB)\n",
      "Collecting flatbuffers (from onnxruntime->milvus-model>=0.1.0->pymilvus[model])\n",
      "  Using cached flatbuffers-24.3.25-py2.py3-none-any.whl.metadata (850 bytes)\n",
      "Requirement already satisfied: sympy in /Users/stephen/Library/Caches/pypoetry/virtualenvs/search-at-scale-mbGucawx-py3.11/lib/python3.11/site-packages (from onnxruntime->milvus-model>=0.1.0->pymilvus[model]) (1.13.0)\n",
      "Collecting humanfriendly>=9.1 (from coloredlogs->onnxruntime->milvus-model>=0.1.0->pymilvus[model])\n",
      "  Using cached humanfriendly-10.0-py2.py3-none-any.whl.metadata (9.2 kB)\n",
      "Requirement already satisfied: mpmath<1.4,>=1.1.0 in /Users/stephen/Library/Caches/pypoetry/virtualenvs/search-at-scale-mbGucawx-py3.11/lib/python3.11/site-packages (from sympy->onnxruntime->milvus-model>=0.1.0->pymilvus[model]) (1.3.0)\n",
      "Downloading cohere-5.8.1-py3-none-any.whl (207 kB)\n",
      "\u001b[2K   \u001b[38;2;114;156;31m━━━━━━━━━━━━━━━━━━━━━━━━━━━━━━━━━━━━━━━━\u001b[0m \u001b[32m207.8/207.8 kB\u001b[0m \u001b[31m1.4 MB/s\u001b[0m eta \u001b[36m0:00:00\u001b[0m[31m1.3 MB/s\u001b[0m eta \u001b[36m0:00:01\u001b[0mm\n",
      "\u001b[?25hDownloading ollama-0.3.1-py3-none-any.whl (10 kB)\n",
      "Downloading openai-1.42.0-py3-none-any.whl (362 kB)\n",
      "\u001b[2K   \u001b[38;2;114;156;31m━━━━━━━━━━━━━━━━━━━━━━━━━━━━━━━━━━━━━━━\u001b[0m \u001b[32m362.9/362.9 kB\u001b[0m \u001b[31m971.3 kB/s\u001b[0m eta \u001b[36m0:00:00\u001b[0mMB/s\u001b[0m eta \u001b[36m0:00:01\u001b[0m:01\u001b[0m\n",
      "\u001b[?25hUsing cached jiter-0.5.0-cp311-cp311-macosx_11_0_arm64.whl (299 kB)\n",
      "Downloading milvus_model-0.2.5-py3-none-any.whl (42 kB)\n",
      "\u001b[2K   \u001b[38;2;114;156;31m━━━━━━━━━━━━━━━━━━━━━━━━━━━━━━━━━━━━━━━━\u001b[0m \u001b[32m42.7/42.7 kB\u001b[0m \u001b[31m1.5 MB/s\u001b[0m eta \u001b[36m0:00:00\u001b[0m MB/s\u001b[0m eta \u001b[36m0:00:01\u001b[0m\n",
      "\u001b[?25hUsing cached pymilvus-2.4.5-py3-none-any.whl (197 kB)\n",
      "Using cached numpy-1.26.4-cp311-cp311-macosx_11_0_arm64.whl (14.0 MB)\n",
      "Downloading onnxruntime-1.19.0-cp311-cp311-macosx_11_0_universal2.whl (16.8 MB)\n",
      "\u001b[2K   \u001b[38;2;114;156;31m━━━━━━━━━━━━━━━━━━━━━━━━━━━━━━━━━━━━━━━━\u001b[0m \u001b[32m16.8/16.8 MB\u001b[0m \u001b[31m1.6 MB/s\u001b[0m eta \u001b[36m0:00:00\u001b[0mm eta \u001b[36m0:00:01\u001b[0m[36m0:00:01\u001b[0m0m\n",
      "\u001b[?25hUsing cached coloredlogs-15.0.1-py2.py3-none-any.whl (46 kB)\n",
      "Using cached flatbuffers-24.3.25-py2.py3-none-any.whl (26 kB)\n",
      "Using cached humanfriendly-10.0-py2.py3-none-any.whl (86 kB)\n",
      "Installing collected packages: flatbuffers, numpy, jiter, humanfriendly, coloredlogs, pymilvus, openai, onnxruntime, ollama, milvus-model, cohere\n",
      "  Attempting uninstall: numpy\n",
      "    Found existing installation: numpy 2.0.0\n",
      "    Uninstalling numpy-2.0.0:\n",
      "      Successfully uninstalled numpy-2.0.0\n",
      "  Attempting uninstall: pymilvus\n",
      "    Found existing installation: pymilvus 2.4.4\n",
      "    Uninstalling pymilvus-2.4.4:\n",
      "      Successfully uninstalled pymilvus-2.4.4\n",
      "  Attempting uninstall: openai\n",
      "    Found existing installation: openai 1.35.14\n",
      "    Uninstalling openai-1.35.14:\n",
      "      Successfully uninstalled openai-1.35.14\n",
      "  Attempting uninstall: ollama\n",
      "    Found existing installation: ollama 0.2.1\n",
      "    Uninstalling ollama-0.2.1:\n",
      "      Successfully uninstalled ollama-0.2.1\n",
      "  Attempting uninstall: cohere\n",
      "    Found existing installation: cohere 5.5.8\n",
      "    Uninstalling cohere-5.5.8:\n",
      "      Successfully uninstalled cohere-5.5.8\n",
      "Successfully installed cohere-5.8.1 coloredlogs-15.0.1 flatbuffers-24.3.25 humanfriendly-10.0 jiter-0.5.0 milvus-model-0.2.5 numpy-1.26.4 ollama-0.3.1 onnxruntime-1.19.0 openai-1.42.0 pymilvus-2.4.5\n",
      "\n",
      "\u001b[1m[\u001b[0m\u001b[34;49mnotice\u001b[0m\u001b[1;39;49m]\u001b[0m\u001b[39;49m A new release of pip is available: \u001b[0m\u001b[31;49m24.0\u001b[0m\u001b[39;49m -> \u001b[0m\u001b[32;49m24.2\u001b[0m\n",
      "\u001b[1m[\u001b[0m\u001b[34;49mnotice\u001b[0m\u001b[1;39;49m]\u001b[0m\u001b[39;49m To update, run: \u001b[0m\u001b[32;49mpip install --upgrade pip\u001b[0m\n"
     ]
    }
   ],
   "source": [
    "! pip install -U 'pymilvus[model]' cohere ollama openai"
   ]
  },
  {
   "cell_type": "code",
   "execution_count": 17,
   "id": "795a76dd-1222-4de0-9e6b-f2e613d67502",
   "metadata": {},
   "outputs": [],
   "source": [
    "from pprint import pprint\n",
    "from dotenv import load_dotenv\n",
    "import os \n",
    "\n",
    "load_dotenv()\n",
    "\n",
    "ZILLIZ_URI = os.getenv('URI')\n",
    "ZILLIZ_TOKEN = os.getenv('TOKEN')\n",
    "COHERE_API_KEY = os.getenv('COHERE_API_KEY')"
   ]
  },
  {
   "cell_type": "markdown",
   "id": "79b7531b-38bf-45b9-8823-66d368d8b290",
   "metadata": {},
   "source": [
    "# Milvus, but not Semantic Search 💅"
   ]
  },
  {
   "cell_type": "code",
   "execution_count": 18,
   "id": "06301201-3485-44f8-8497-43eae896dbbe",
   "metadata": {},
   "outputs": [],
   "source": [
    "from pymilvus import MilvusClient\n",
    "\n",
    "milvus_client = MilvusClient(uri=ZILLIZ_URI, token=ZILLIZ_TOKEN)"
   ]
  },
  {
   "cell_type": "code",
   "execution_count": 19,
   "id": "c0fdbfe5-e7be-4779-8355-5d1ca712a644",
   "metadata": {},
   "outputs": [
    {
     "data": {
      "text/plain": [
       "['cohere_embeddings', 'protein_embedding_esm2nv']"
      ]
     },
     "execution_count": 19,
     "metadata": {},
     "output_type": "execute_result"
    }
   ],
   "source": [
    "milvus_client.list_collections()"
   ]
  },
  {
   "cell_type": "code",
   "execution_count": 20,
   "id": "30b74018-b47a-4a6a-bcf7-aa6c9301c6d0",
   "metadata": {},
   "outputs": [],
   "source": [
    "collection_name = \"cohere_embeddings\""
   ]
  },
  {
   "cell_type": "markdown",
   "id": "a40ebb64-e020-4e9c-9e48-190d9f44d137",
   "metadata": {},
   "source": [
    "### Get some stats about the collection"
   ]
  },
  {
   "cell_type": "code",
   "execution_count": 21,
   "id": "fe9bfb31-b868-4a4a-849f-695b4babd8f0",
   "metadata": {},
   "outputs": [
    {
     "data": {
      "text/plain": [
       "{'row_count': 33570424}"
      ]
     },
     "execution_count": 21,
     "metadata": {},
     "output_type": "execute_result"
    }
   ],
   "source": [
    "milvus_client.get_collection_stats(collection_name)"
   ]
  },
  {
   "cell_type": "code",
   "execution_count": 22,
   "id": "28f6007b-2c52-4f5c-8cba-4b7893d36ac4",
   "metadata": {},
   "outputs": [
    {
     "data": {
      "text/plain": [
       "{'index_type': 'HNSW',\n",
       " 'metric_type': 'COSINE',\n",
       " 'field_name': 'text_vector',\n",
       " 'index_name': 'text_vector',\n",
       " 'total_rows': 33570424,\n",
       " 'indexed_rows': 33570424,\n",
       " 'pending_index_rows': 0,\n",
       " 'state': 'Finished'}"
      ]
     },
     "execution_count": 22,
     "metadata": {},
     "output_type": "execute_result"
    }
   ],
   "source": [
    "milvus_client.describe_index(collection_name=collection_name, index_name=\"text_vector\")"
   ]
  },
  {
   "cell_type": "markdown",
   "id": "31425f3e-ee6d-4e30-bd9b-71bf29397377",
   "metadata": {},
   "source": [
    "## Check if the collection is Loaded"
   ]
  },
  {
   "cell_type": "code",
   "execution_count": 23,
   "id": "71dc765f-68c5-4bf9-8101-d4a8c67f279d",
   "metadata": {},
   "outputs": [
    {
     "data": {
      "text/plain": [
       "{'state': <LoadState: NotLoad>}"
      ]
     },
     "execution_count": 23,
     "metadata": {},
     "output_type": "execute_result"
    }
   ],
   "source": [
    "milvus_client.get_load_state(collection_name=collection_name)"
   ]
  },
  {
   "cell_type": "code",
   "execution_count": 24,
   "id": "5440d9fe-60bf-4114-9d73-9fbf7fdf9a20",
   "metadata": {},
   "outputs": [],
   "source": [
    "milvus_client.load_collection(collection_name=collection_name)"
   ]
  },
  {
   "cell_type": "code",
   "execution_count": 25,
   "id": "3b3a54f9-8638-410f-9cb4-6e0284f27a1b",
   "metadata": {},
   "outputs": [
    {
     "data": {
      "text/plain": [
       "{'state': <LoadState: Loaded>}"
      ]
     },
     "execution_count": 25,
     "metadata": {},
     "output_type": "execute_result"
    }
   ],
   "source": [
    "milvus_client.get_load_state(collection_name=collection_name)"
   ]
  },
  {
   "cell_type": "code",
   "execution_count": 26,
   "id": "1def1fcd-6bb7-4ab6-aef4-31b1eb9c1e41",
   "metadata": {},
   "outputs": [
    {
     "name": "stdout",
     "output_type": "stream",
     "text": [
      "{'aliases': [],\n",
      " 'auto_id': True,\n",
      " 'collection_id': 450933285225713100,\n",
      " 'collection_name': 'cohere_embeddings',\n",
      " 'consistency_level': 2,\n",
      " 'description': 'Schema for text and paragraph embeddings',\n",
      " 'enable_dynamic_field': False,\n",
      " 'fields': [{'auto_id': True,\n",
      "             'description': '',\n",
      "             'field_id': 100,\n",
      "             'is_primary': True,\n",
      "             'name': 'id',\n",
      "             'params': {},\n",
      "             'type': <DataType.INT64: 5>},\n",
      "            {'description': '',\n",
      "             'field_id': 101,\n",
      "             'name': 'text_vector',\n",
      "             'params': {'dim': 1024},\n",
      "             'type': <DataType.FLOAT_VECTOR: 101>},\n",
      "            {'description': '',\n",
      "             'field_id': 102,\n",
      "             'name': 'title',\n",
      "             'params': {'max_length': 5000},\n",
      "             'type': <DataType.VARCHAR: 21>},\n",
      "            {'description': '',\n",
      "             'field_id': 103,\n",
      "             'name': 'text',\n",
      "             'params': {'max_length': 5000},\n",
      "             'type': <DataType.VARCHAR: 21>}],\n",
      " 'num_partitions': 1,\n",
      " 'num_shards': 1,\n",
      " 'properties': {}}\n"
     ]
    }
   ],
   "source": [
    "pprint(milvus_client.describe_collection(collection_name=collection_name))"
   ]
  },
  {
   "cell_type": "markdown",
   "id": "7579c1fe-1173-4aa1-a324-5c35dbe3ccf1",
   "metadata": {},
   "source": [
    "## Filtering 🪓"
   ]
  },
  {
   "cell_type": "code",
   "execution_count": 11,
   "id": "6f3b48b6-ad4a-4290-9330-d9ebf0f6188d",
   "metadata": {},
   "outputs": [
    {
     "name": "stdout",
     "output_type": "stream",
     "text": [
      "{'id': 450933285225527270,\n",
      " 'text': 'The British Arab Commercial Bank PLC (BACB) is an international '\n",
      "         'wholesale bank incorporated in the United Kingdom that is authorised '\n",
      "         'by the Prudential Regulation Authority (PRA) and regulated by the '\n",
      "         'PRA and the Financial Conduct Authority (FCA). It was founded in '\n",
      "         '1972 as UBAF Limited, adopted its current name in 1996, and '\n",
      "         'registered as a public limited company in 2009. The bank has clients '\n",
      "         'trading in and out of developing markets in the Middle East and '\n",
      "         'Africa.',\n",
      " 'title': 'British Arab Commercial Bank'}\n",
      "{'id': 450933285225527271,\n",
      " 'text': 'BACB has a head office in London, and three representative offices '\n",
      "         'in Algiers in Algeria, Tripoli in Libya and Abidjan in the Cote '\n",
      "         \"D'Ivoire. The bank has 17 sister banks across Europe, Asia and \"\n",
      "         'Africa. It is owned by three main shareholders - the Libyan Foreign '\n",
      "         'Bank (87.80%), Banque Centrale Populaire (6.10%) and Banque '\n",
      "         \"Extérieure d'Algérie (6.10%).\",\n",
      " 'title': 'British Arab Commercial Bank'}\n",
      "{'id': 450933285225527272,\n",
      " 'text': 'The bank provides services of trade finance, treasury, real estate '\n",
      "         'lending, banking and payment services, and asset distribution and '\n",
      "         'syndication. The current Chairman is Dr Yousef Abdullah Al Awadi, '\n",
      "         'and the current Chief Executive Officer is Paul Jennings.',\n",
      " 'title': 'British Arab Commercial Bank'}\n",
      "{'id': 450933285225527273,\n",
      " 'text': 'The bank was founded in 1972 as UBAF Limited and changed its name to '\n",
      "         'UBAF Bank Limited in 1977.  It began as an affiliate of Midland '\n",
      "         'Bank, and became an affiliate of HSBC when HSBC took over Midland '\n",
      "         'Bank in 1992. The bank adopted the name British Arab Commercial Bank '\n",
      "         'in 1996.',\n",
      " 'title': 'British Arab Commercial Bank'}\n",
      "{'id': 450933285225527274,\n",
      " 'text': 'In 2009, Commercial Bank of Egypt sold its 8% stake. At the time, '\n",
      "         'the other shareholders were HSBC (49%), Libyan Foreign Bank (26%), '\n",
      "         'Bank Al-Maghrib (8%), and Banque Extérieure d’Algérie (8%). Banque '\n",
      "         'Centrale Populaire eventually bought out Bank Al-Maghrib and thus '\n",
      "         'gained a stake in BACB.',\n",
      " 'title': 'British Arab Commercial Bank'}\n",
      "{'id': 450933285225527275,\n",
      " 'text': 'In 2010, HSBC sold its 49% shareholding to the Libyan Foreign Bank '\n",
      "         '(\"LFB\"), a subsidiary of the Central Bank of Libya (\"CBL\").  Its '\n",
      "         'share is 87.80%, with the other shareholders being Banque Centrale '\n",
      "         'Populaire (6.10%), and Banque Extérieure d’Algérie (6.10%). On 2 '\n",
      "         'June 2009, the Bank changed its corporate status from that of a '\n",
      "         'private to a public company.',\n",
      " 'title': 'British Arab Commercial Bank'}\n",
      "{'id': 450933285225527276,\n",
      " 'text': 'In 2016, the bank opened a new representative office in Abidjan, to '\n",
      "         'add to its existing representative offices in Algiers, and in '\n",
      "         'Tripoli.',\n",
      " 'title': 'British Arab Commercial Bank'}\n",
      "{'id': 450933285225527277,\n",
      " 'text': 'BACB aims to facilitate cross-border trade through a sustainable '\n",
      "         'revenue base with its chosen clients and markets. The bank is known '\n",
      "         'for dealing with markets with which larger banks are often hesitant '\n",
      "         'to do business, such as Middle Eastern and North African markets. '\n",
      "         'The bank serves the rest of the African continent through '\n",
      "         'relationships with a number of financial institutions and '\n",
      "         'correspondent banks, particularly in Nigeria and Ghana.',\n",
      " 'title': 'British Arab Commercial Bank'}\n",
      "{'id': 450933285225527278,\n",
      " 'text': \"Most notably, the bank works with Saf Cacao in Cote D'Ivoire, and \"\n",
      "         'Casablanca-based steel company Acier Longofer in Morocco, becoming '\n",
      "         'the first commercial bank to fund the latter.',\n",
      " 'title': 'British Arab Commercial Bank'}\n",
      "{'id': 450933285225527279,\n",
      " 'text': \"While the majority of the bank's clients are African and Middle \"\n",
      "         'Eastern companies and institutions, working with them brings it into '\n",
      "         'regular contact with European exporters and importers. The bank also '\n",
      "         'has sister banks in European countries, including Spain, Italy and '\n",
      "         'France.',\n",
      " 'title': 'British Arab Commercial Bank'}\n",
      "{'id': 450933285225527280,\n",
      " 'text': 'After a shaky performance over the preceding few years, BACB '\n",
      "         'regained a stable position in 2016, and made a profit of £2.6 '\n",
      "         \"million before tax deductions. The bank's total assets also came to \"\n",
      "         '£2.9 billion that same year. The successful financial year also '\n",
      "         'included an 11% increase in operating income to £42.7 million.',\n",
      " 'title': 'British Arab Commercial Bank'}\n"
     ]
    }
   ],
   "source": [
    "FILTER_TITLE = \"British Arab Commercial Bank\"\n",
    "\n",
    "res = milvus_client.query(\n",
    "    collection_name=collection_name,\n",
    "    filter=f'title like \"{FILTER_TITLE}\"',\n",
    "    output_fields=[\"title\", \"text\"]\n",
    ")\n",
    "for elt in res: \n",
    "    pprint(elt)"
   ]
  },
  {
   "cell_type": "code",
   "execution_count": 12,
   "id": "7898a30d-0435-4b16-9c5a-8d630bd7339e",
   "metadata": {},
   "outputs": [
    {
     "name": "stdout",
     "output_type": "stream",
     "text": [
      "{'id': 450933285225527360,\n",
      " 'text': 'Calectasia is a genus of about fifteen species of flowering plants '\n",
      "         'in the family Dasypogonaceae and is endemic to south-western '\n",
      "         'Australia. Plants is this genus are small, erect shrubs with '\n",
      "         'branched stems covered by leaf sheaths. The flowers are star-shaped, '\n",
      "         'lilac-blue to purple and arranged singly on the ends of short '\n",
      "         'branchlets.',\n",
      " 'title': 'Calectasia'}\n",
      "{'id': 450933285225527361,\n",
      " 'text': 'Plants in the genus Calectasia are small, often rhizome-forming '\n",
      "         'shrubs with erect, branched stems with sessile leaves arranged '\n",
      "         'alternately along the stems,  long and about  wide, the base held '\n",
      "         'closely against the stem and the tip pointed. The flowers are '\n",
      "         'arranged singly on the ends of branchlets and are bisexual, the '\n",
      "         'three sepals and three petals are similar to each other, and joined '\n",
      "         'at the base forming a short tube but spreading, forming a star-like '\n",
      "         'pattern with a metallic sheen. Six bright yellow or orange stamens '\n",
      "         'form a tube in the centre of the flower with a thin style extending '\n",
      "         'beyond the centre of the tube.',\n",
      " 'title': 'Calectasia'}\n",
      "{'id': 450933285225527362,\n",
      " 'text': 'The genus Calectasia was first formally described in 1810 by Robert '\n",
      "         'Brown in his Prodromus Florae Novae Hollandiae et Insulae Van Diemen '\n",
      "         'and the first species to be named was Calectasia cyanea. The name is '\n",
      "         'derived from the Ancient Greek words kalos \" beautiful\" and ektasis '\n",
      "         '\"development\", alluding to the blue spreading perianth-tubes.',\n",
      " 'title': 'Calectasia'}\n",
      "{'id': 450933285225527364,\n",
      " 'text': 'Calectasia species occur in the south-west of Western Australia and '\n",
      "         'in the border areas between South Australia and Victoria. C. '\n",
      "         'intermedia is only found in the latter region and the remaining '\n",
      "         'species only in Western Australia. They occupy a variety of '\n",
      "         'habitats, occasionally in seasonally swampy areas, but more usually '\n",
      "         'in low heath or woodland on sand, or over laterite or granite.',\n",
      " 'title': 'Calectasia'}\n",
      "{'id': 450933285225527365,\n",
      " 'text': 'There is evidence that all Calectasia species have sand-binding '\n",
      "         'roots and flowers that are buzz pollinated. It is possible that the '\n",
      "         'similarity in appearance of Calectasia and Thelymitra variegata '\n",
      "         'flowers indicate an example of Dodsonian mimicry. Calectasia '\n",
      "         'grandiflora and Thelymitra variegata often occur in the same area. '\n",
      "         'Individual Calectasia plants are often parasitised by a dodder-like '\n",
      "         'plant in the genus Cassytha.',\n",
      " 'title': 'Calectasia'}\n"
     ]
    }
   ],
   "source": [
    "res = milvus_client.query(\n",
    "    collection_name=collection_name,\n",
    "    filter='text like \"%Calectasia%\"',\n",
    "    output_fields=[\"title\", \"text\"],\n",
    "    limit=5,\n",
    ")\n",
    "for elt in res: \n",
    "    pprint(elt)"
   ]
  },
  {
   "cell_type": "code",
   "execution_count": 13,
   "id": "fc799000-f8e0-400f-b0c9-f9d31ab64b7b",
   "metadata": {},
   "outputs": [
    {
     "name": "stdout",
     "output_type": "stream",
     "text": [
      "{'id': 450933285225527281,\n",
      " 'text': 'The Commonwealth Skyranger, first produced as the Rearwin Skyranger, '\n",
      "         'was the last design of Rearwin Aircraft before the company was '\n",
      "         'purchased by a new owner and renamed Commonwealth Aircraft.  It was '\n",
      "         'a side-by-side, two-seat, high-wing taildragger.',\n",
      " 'title': 'Commonwealth Skyranger'}\n",
      "{'id': 450933285225527282,\n",
      " 'text': 'The Rearwin company had specialized in aircraft powered by small '\n",
      "         'radial engines, such as their Sportster and Cloudster, and had even '\n",
      "         'purchased the assets of LeBlond Engines to make small radial engines '\n",
      "         'in-house in 1937. By 1940, however, it was clear Rearwin would need '\n",
      "         'a design powered by a small horizontally opposed engine to remain '\n",
      "         'competitive. Intended for sport pilots and flying businessmen, the '\n",
      "         '\"Rearwin Model 165\" first flew on April 9, 1940. Originally named '\n",
      "         'the \"Ranger,\" Ranger Engines (who also sold several engines named '\n",
      "         '\"Ranger\") protested, and Rearwin renamed the design \"Skyranger.\" The '\n",
      "         'overall design and construction methods allowed Rearwin to take '\n",
      "         'orders for Skyrangers then deliver the aircraft within 10 weeks.',\n",
      " 'title': 'Commonwealth Skyranger'}\n",
      "{'id': 450933285225527283,\n",
      " 'text': \"The Skyranger's development in 1940 came shortly before the U.S. \"\n",
      "         'entered World War II. At that time, the U.S. government was '\n",
      "         'purchasing almost any airplane in the two-seat, 50-90 horsepower '\n",
      "         'class as training aircraft for the Civilian Pilot Training Program '\n",
      "         '(\"CPT Program\" or \"CPTP\"), intended to develop tens of thousands of '\n",
      "         'pilots for the possibility of U.S. involvement in the war. However, '\n",
      "         'unlike its contemporaries heavily used in the CPTP such as the Piper '\n",
      "         'Cub, Taylorcraft, Interstate Cadet, and Porterfield Collegiate, the '\n",
      "         'Skyranger was rejected by the government for CPTP use as too '\n",
      "         'challenging to fly.',\n",
      " 'title': 'Commonwealth Skyranger'}\n",
      "{'id': 450933285225527284,\n",
      " 'text': 'By 1942, Rearwin had produced only 82 Skyrangers (compared to '\n",
      "         \"hundreds or thousands of its competitors' planes) when World War II \"\n",
      "         'forced production to halt.',\n",
      " 'title': 'Commonwealth Skyranger'}\n",
      "{'id': 450933285225527285,\n",
      " 'text': 'In 1945 Commonwealth Aircraft re-established production of the '\n",
      "         'Skyranger. The first 12 had to be hand-built, as the original jigs '\n",
      "         'and tooling were recycled or scrapped during World War II. In 1946, '\n",
      "         'production shifted to Valley Stream, New York. the Commonwealth '\n",
      "         'Skyranger had minor modifications but was essentially the same as '\n",
      "         'the pre-war aircraft. Commonwealth went bankrupt in 1946, and was '\n",
      "         'dissolved in March of 1947, partly because the pre-war design failed '\n",
      "         'to compete with new designs and cheap war surplus aircraft.',\n",
      " 'title': 'Commonwealth Skyranger'}\n",
      "{'id': 450933285225527286,\n",
      " 'text': 'The Skyranger was a high-wing light plane seating two people '\n",
      "         'side-by-side. It had a conventional landing gear with a tailwheel. '\n",
      "         'It was constructed with a fabric-covered steel tube fuselage and '\n",
      "         'wooden wing (with a semi-symmetrical airfoil cross-section. The '\n",
      "         'Skyranger was powered by a variety of opposed engines made by '\n",
      "         'Continental Motors and the Franklin Engine Company, ranging from 65 '\n",
      "         'to 90 horsepower. It sold for $1,795 to $2,400.',\n",
      " 'title': 'Commonwealth Skyranger'}\n",
      "{'id': 450933285225527287,\n",
      " 'text': 'The Skyranger handled differently from the other planes in its class '\n",
      "         '(such as the Cub, Taylorcraft, Cadet, Collegiate, and Aeronca '\n",
      "         'Chief), with a \"heavy-airplane feel\" (heavy controls, exceptional '\n",
      "         'stability). With an unusually large vertical stabilizer for its '\n",
      "         'size, the Skyranger was exceptionally susceptible to crosswinds '\n",
      "         'during landing and taxiing. Unusually for the time and aircraft in '\n",
      "         'its class, the Skyranger was also designed with slots in its outer '\n",
      "         'wings to allow controllability at lower speeds.',\n",
      " 'title': 'Commonwealth Skyranger'}\n",
      "{'id': 450933285225527288,\n",
      " 'text': 'Prototype of the Skyranger family and first made public as the '\n",
      "         '\"Ranger,\" it featured a 65hp Continental A65 engine. The 65hp engine '\n",
      "         'was later offered as a lower-cost option. At least 1 built.',\n",
      " 'title': 'Commonwealth Skyranger'}\n",
      "{'id': 450933285225527289,\n",
      " 'text': 'Initial production version, the model number was increased to '\n",
      "         'reflect the use of a 75hp Continental A65 engine as standard.',\n",
      " 'title': 'Commonwealth Skyranger'}\n",
      "{'id': 450933285225527290,\n",
      " 'text': 'Up-engined version of the Skyranger 175 using the 80hp Franklin '\n",
      "         \"Engines' 4AC-176-F3. The engine change required a new cowling, but \"\n",
      "         'introduced an automotive-type starter and generator. New options '\n",
      "         'increased the gross weight of the plane by 100lbs, so the fuselage '\n",
      "         'tubing was strengthened.',\n",
      " 'title': 'Commonwealth Skyranger'}\n"
     ]
    }
   ],
   "source": [
    "res = milvus_client.query(\n",
    "    collection_name=collection_name,\n",
    "    filter='title not in [\"British Arab Commercial Bank\", \"Calectasia\"]',\n",
    "    output_fields=[\"title\", \"text\"],\n",
    "    limit=10,\n",
    ")\n",
    "for elt in res: \n",
    "    pprint(elt)"
   ]
  },
  {
   "cell_type": "markdown",
   "id": "2c4d7e6c-7093-4293-b9ba-fc79ffcb760f",
   "metadata": {},
   "source": [
    "## Cohere 🤝 Milvus "
   ]
  },
  {
   "cell_type": "code",
   "execution_count": 27,
   "id": "7135a86c",
   "metadata": {},
   "outputs": [],
   "source": [
    "from pymilvus.model.dense import CohereEmbeddingFunction\n",
    "\n",
    "cohere_ef = CohereEmbeddingFunction(\n",
    "    model_name=\"embed-multilingual-v3.0\",\n",
    "    input_type=\"search_query\",\n",
    "    embedding_types=[\"float\"]\n",
    ")"
   ]
  },
  {
   "cell_type": "code",
   "execution_count": 11,
   "id": "9024c701",
   "metadata": {},
   "outputs": [
    {
     "name": "stdout",
     "output_type": "stream",
     "text": [
      "Embeddings: [-0.02929688 -0.02085876 -0.00662231  0.01594543 -0.02879333 -0.0317688\n",
      " -0.00242996 -0.02160645  0.00997925 -0.00992584]\n",
      "Dim: 1024 (1024,)\n"
     ]
    }
   ],
   "source": [
    "docs = [\n",
    "    \"Artificial intelligence was founded as an academic discipline in 1956.\",\n",
    "    \"Alan Turing was the first person to conduct substantial research in AI.\",\n",
    "    \"Born in Maida Vale, London, Turing was raised in southern England.\",\n",
    "]\n",
    "\n",
    "docs_embeddings = cohere_ef.encode_documents(docs)\n",
    "\n",
    "print(\"Embeddings:\", docs_embeddings[0][:10])\n",
    "print(\"Dim:\", cohere_ef.dim, docs_embeddings[0].shape)\n"
   ]
  },
  {
   "cell_type": "code",
   "execution_count": null,
   "id": "d04e5430",
   "metadata": {},
   "outputs": [],
   "source": []
  },
  {
   "cell_type": "code",
   "execution_count": 33,
   "id": "84813f70-8b3e-42b7-8a86-c33f46a2755b",
   "metadata": {},
   "outputs": [
    {
     "name": "stdout",
     "output_type": "stream",
     "text": [
      "[-0.02313232 -0.00188732  0.03025818 -0.00238991 -0.0016489  -0.00579453\n",
      "  0.01339722 -0.01864624 -0.02055359 -0.00737   ]\n"
     ]
    }
   ],
   "source": [
    "query = 'Who founded Wikipedia'\n",
    "embedded_query = cohere_ef.encode_queries([query])\n",
    "\n",
    "response = embedded_query[0]\n",
    "print(response[:10])"
   ]
  },
  {
   "cell_type": "code",
   "execution_count": 31,
   "id": "96e62d8e-36fe-433b-9f0d-14a4308247ce",
   "metadata": {},
   "outputs": [
    {
     "name": "stdout",
     "output_type": "stream",
     "text": [
      "[{'distance': 0.7346179485321045,\n",
      "  'entity': {'text': 'Larry Sanger and Jimmy Wales are the ones who started '\n",
      "                     'Wikipedia. Wales is credited with defining the goals of '\n",
      "                     'the project. Sanger created the strategy of using a wiki '\n",
      "                     \"to reach Wales' goal. On January 10, 2001, Larry Sanger \"\n",
      "                     'proposed on the Nupedia mailing list to create a wiki as '\n",
      "                     'a \"feeder\" project for Nupedia. Wikipedia was launched '\n",
      "                     'on January 15, 2001. It was launched as an '\n",
      "                     'English-language edition at www.wikipedia.com, and '\n",
      "                     'announced by Sanger on the Nupedia mailing list. '\n",
      "                     'Wikipedia\\'s policy of \"neutral point-of-view\" was '\n",
      "                     'enforced in its initial months and was similar to '\n",
      "                     'Nupedia\\'s earlier \"nonbiased\" policy. Otherwise, there '\n",
      "                     \"weren't very many rules initially, and Wikipedia \"\n",
      "                     'operated independently of Nupedia.'},\n",
      "  'id': 450933285241797095},\n",
      " {'distance': 0.7240362167358398,\n",
      "  'entity': {'text': 'Wikipedia was originally conceived as a complement to '\n",
      "                     'Nupedia, a free on-line encyclopedia founded by Jimmy '\n",
      "                     'Wales, with articles written by highly qualified '\n",
      "                     'contributors and evaluated by an elaborate peer review '\n",
      "                     'process. The writing of content for Nupedia proved to be '\n",
      "                     'extremely slow, with only 12 articles completed during '\n",
      "                     'the first year, despite a mailing-list of interested '\n",
      "                     'editors and the presence of a full-time editor-in-chief '\n",
      "                     'recruited by Wales, Larry Sanger. Learning of the wiki '\n",
      "                     'concept, Wales and Sanger decided to try creating a '\n",
      "                     'collaborative website to provide an additional source of '\n",
      "                     'rapidly produced draft articles that could be polished '\n",
      "                     'for use on Nupedia.'},\n",
      "  'id': 450933285225827849},\n",
      " {'distance': 0.7191606163978577,\n",
      "  'entity': {'text': \"The foundation's creation was officially announced by \"\n",
      "                     'Wikipedia co-founder Jimmy Wales, who was running '\n",
      "                     'Wikipedia within his company Bomis, on June 20, 2003.'},\n",
      "  'id': 450933285242058780}]\n"
     ]
    }
   ],
   "source": [
    "res = milvus_client.search(data=response, collection_name=collection_name, output_fields=[\"text\"], limit=3)\n",
    "\n",
    "for elt in res:\n",
    "    pprint(elt)"
   ]
  },
  {
   "cell_type": "code",
   "execution_count": 34,
   "id": "0ad3d728-eda3-4b0a-aa1e-052f092444f5",
   "metadata": {},
   "outputs": [
    {
     "name": "stdout",
     "output_type": "stream",
     "text": [
      "[\n",
      "    [\n",
      "        \"Larry Sanger and Jimmy Wales are the ones who started Wikipedia. Wales is credited with defining the goals of the project. Sanger created the strategy of using a wiki to reach Wales' goal. On January 10, 2001, Larry Sanger proposed on the Nupedia mailing list to create a wiki as a \\\"feeder\\\" project for Nupedia. Wikipedia was launched on January 15, 2001. It was launched as an English-language edition at www.wikipedia.com, and announced by Sanger on the Nupedia mailing list. Wikipedia's policy of \\\"neutral point-of-view\\\" was enforced in its initial months and was similar to Nupedia's earlier \\\"nonbiased\\\" policy. Otherwise, there weren't very many rules initially, and Wikipedia operated independently of Nupedia.\",\n",
      "        0.7346179485321045\n",
      "    ],\n",
      "    [\n",
      "        \"Wikipedia was originally conceived as a complement to Nupedia, a free on-line encyclopedia founded by Jimmy Wales, with articles written by highly qualified contributors and evaluated by an elaborate peer review process. The writing of content for Nupedia proved to be extremely slow, with only 12 articles completed during the first year, despite a mailing-list of interested editors and the presence of a full-time editor-in-chief recruited by Wales, Larry Sanger. Learning of the wiki concept, Wales and Sanger decided to try creating a collaborative website to provide an additional source of rapidly produced draft articles that could be polished for use on Nupedia.\",\n",
      "        0.7240362167358398\n",
      "    ],\n",
      "    [\n",
      "        \"The foundation's creation was officially announced by Wikipedia co-founder Jimmy Wales, who was running Wikipedia within his company Bomis, on June 20, 2003.\",\n",
      "        0.7191606163978577\n",
      "    ]\n",
      "]\n"
     ]
    }
   ],
   "source": [
    "import json\n",
    "retrieved_lines_with_distances = [\n",
    "    (result[\"entity\"][\"text\"], result[\"distance\"]) for result in res[0]\n",
    "]\n",
    "print(json.dumps(retrieved_lines_with_distances, indent=4))"
   ]
  },
  {
   "cell_type": "markdown",
   "id": "82a46e88-c537-4144-ba50-62b03ce7fe32",
   "metadata": {},
   "source": [
    "## Use LLM to get a RAG response"
   ]
  },
  {
   "cell_type": "code",
   "execution_count": 35,
   "id": "02a818d1-c993-4b60-86c8-9dd5d2ed508e",
   "metadata": {},
   "outputs": [],
   "source": [
    "context = \"\\n\".join(\n",
    "    [line_with_distance[0] for line_with_distance in retrieved_lines_with_distances]\n",
    ")"
   ]
  },
  {
   "cell_type": "code",
   "execution_count": 36,
   "id": "c9849c68-3ee9-4676-873b-32a42bf63beb",
   "metadata": {},
   "outputs": [],
   "source": [
    "question = \"Who created Wikipedia?\""
   ]
  },
  {
   "cell_type": "code",
   "execution_count": 37,
   "id": "229be5ae-5af7-4ef0-9fc6-6c8080853c2a",
   "metadata": {},
   "outputs": [],
   "source": [
    "SYSTEM_PROMPT = \"\"\"\n",
    "Human: You are an AI assistant. You are able to find answers to the questions from the contextual passage snippets provided.\n",
    "\"\"\"\n",
    "\n",
    "USER_PROMPT = f\"\"\"\n",
    "    Use the following pieces of information enclosed in <context> tags to provide an answer to the question enclosed in <question> tags.\n",
    "    <context>\n",
    "    {context}\n",
    "    </context>\n",
    "    <question>\n",
    "    {question}\n",
    "    </question>\n",
    "\"\"\""
   ]
  },
  {
   "cell_type": "code",
   "execution_count": 38,
   "id": "0a8bda74-58a4-4502-8f68-f345ff5db56d",
   "metadata": {},
   "outputs": [
    {
     "name": "stdout",
     "output_type": "stream",
     "text": [
      "According to the provided context, Larry Sanger and Jimmy Wales are the ones who started Wikipedia.\n"
     ]
    }
   ],
   "source": [
    "from openai import OpenAI\n",
    "\n",
    "client = OpenAI(\n",
    "    base_url = 'http://localhost:11434/v1',\n",
    "    api_key='ollama', # required, but unused\n",
    ")\n",
    "\n",
    "response = client.chat.completions.create(\n",
    "    model=\"llama3\",\n",
    "    messages=[\n",
    "        {\"role\": \"system\", \"content\": SYSTEM_PROMPT},\n",
    "        {\"role\": \"user\", \"content\": USER_PROMPT},\n",
    "    ],\n",
    ")\n",
    "print(response.choices[0].message.content)"
   ]
  },
  {
   "cell_type": "markdown",
   "id": "0df3727f-b746-46b4-9360-dedf337135a0",
   "metadata": {},
   "source": [
    "## Release the collection"
   ]
  },
  {
   "cell_type": "code",
   "execution_count": 39,
   "id": "ca7bdcd7-db4b-44ac-9919-81238e430f0e",
   "metadata": {},
   "outputs": [],
   "source": [
    "milvus_client.release_collection(collection_name=collection_name)"
   ]
  },
  {
   "attachments": {
    "2aa4a14c-3184-4132-99ec-d1753156bb45.png": {
     "image/png": "[encoded data removed]"
    },
    "e3943105-4981-4a79-8baa-6c965be99be8.png": {
     "image/png": "[encoded data removed]"
    }
   },
   "cell_type": "markdown",
   "id": "e5d91789-75c9-4830-b414-9bcbee27a9f0",
   "metadata": {},
   "source": [
    "# Give us a star on Github ⭐️\n",
    "\n",
    "![image.png](attachment:2aa4a14c-3184-4132-99ec-d1753156bb45.png)\n",
    "\n",
    "# Add me on LinkedIn\n",
    "![image.png](attachment:e3943105-4981-4a79-8baa-6c965be99be8.png)"
   ]
  },
  {
   "cell_type": "markdown",
   "id": "e45a02c8-760a-42d2-9721-cd13e5bb5d8b",
   "metadata": {},
   "source": [
    "## Misc."
   ]
  },
  {
   "cell_type": "code",
   "execution_count": 9,
   "id": "1e5a4471-d0e3-48ce-ae61-250d6ab94ebd",
   "metadata": {},
   "outputs": [],
   "source": [
    "from pymilvus import connections\n",
    "\n",
    "connections.connect(alias=\"default\", uri=ZILLIZ_URI, port='19530', token=ZILLIZ_TOKEN)"
   ]
  },
  {
   "cell_type": "code",
   "execution_count": 10,
   "id": "a469b8d6-2cc7-40f4-839a-1ce26e11e595",
   "metadata": {},
   "outputs": [
    {
     "name": "stdout",
     "output_type": "stream",
     "text": [
      "{'auto_id': True, 'description': 'Schema for text and paragraph embeddings', 'fields': [{'name': 'id', 'description': '', 'type': <DataType.INT64: 5>, 'is_primary': True, 'auto_id': True}, {'name': 'text_vector', 'description': '', 'type': <DataType.FLOAT_VECTOR: 101>, 'params': {'dim': 1024}}, {'name': 'title', 'description': '', 'type': <DataType.VARCHAR: 21>, 'params': {'max_length': 5000}}, {'name': 'text', 'description': '', 'type': <DataType.VARCHAR: 21>, 'params': {'max_length': 5000}}], 'enable_dynamic_field': False}\n"
     ]
    }
   ],
   "source": [
    "from pymilvus import Collection\n",
    "\n",
    "collection = Collection(collection_name)\n",
    "\n",
    "print(collection.schema)"
   ]
  },
  {
   "cell_type": "code",
   "execution_count": 11,
   "id": "a72f19d5-dbe3-424f-a670-100328342600",
   "metadata": {},
   "outputs": [
    {
     "name": "stdout",
     "output_type": "stream",
     "text": [
      "<class 'pymilvus.orm.schema.CollectionSchema'>\n"
     ]
    }
   ],
   "source": [
    "print(type(collection.schema))"
   ]
  },
  {
   "cell_type": "code",
   "execution_count": null,
   "id": "93fdeccc-60f3-4afb-9315-ed12736d783b",
   "metadata": {},
   "outputs": [],
   "source": [
    "from pymilvus import CollectionSchema\n",
    "\n"
   ]
  },
  {
   "cell_type": "code",
   "execution_count": 6,
   "id": "384723a3-e6a3-4bbd-98f9-96b46da3f288",
   "metadata": {},
   "outputs": [
    {
     "data": {
      "text/plain": [
       "{'collection_name': 'cohere_embeddings',\n",
       " 'auto_id': True,\n",
       " 'num_shards': 1,\n",
       " 'description': 'Schema for text and paragraph embeddings',\n",
       " 'fields': [{'field_id': 100,\n",
       "   'name': 'id',\n",
       "   'description': '',\n",
       "   'type': <DataType.INT64: 5>,\n",
       "   'params': {},\n",
       "   'auto_id': True,\n",
       "   'is_primary': True},\n",
       "  {'field_id': 101,\n",
       "   'name': 'text_vector',\n",
       "   'description': '',\n",
       "   'type': <DataType.FLOAT_VECTOR: 101>,\n",
       "   'params': {'dim': 1024}},\n",
       "  {'field_id': 102,\n",
       "   'name': 'title',\n",
       "   'description': '',\n",
       "   'type': <DataType.VARCHAR: 21>,\n",
       "   'params': {'max_length': 5000}},\n",
       "  {'field_id': 103,\n",
       "   'name': 'text',\n",
       "   'description': '',\n",
       "   'type': <DataType.VARCHAR: 21>,\n",
       "   'params': {'max_length': 5000}}],\n",
       " 'aliases': [],\n",
       " 'collection_id': 450933285225713100,\n",
       " 'consistency_level': 2,\n",
       " 'properties': {},\n",
       " 'num_partitions': 1,\n",
       " 'enable_dynamic_field': False}"
      ]
     },
     "execution_count": 6,
     "metadata": {},
     "output_type": "execute_result"
    }
   ],
   "source": [
    "milvus_client.describe_collection(collection_name)"
   ]
  }
 ],
 "metadata": {
  "kernelspec": {
   "display_name": "Python 3 (ipykernel)",
   "language": "python",
   "name": "python3"
  },
  "language_info": {
   "codemirror_mode": {
    "name": "ipython",
    "version": 3
   },
   "file_extension": ".py",
   "mimetype": "text/x-python",
   "name": "python",
   "nbconvert_exporter": "python",
   "pygments_lexer": "ipython3",
   "version": "3.11.8"
  }
 },
 "nbformat": 4,
 "nbformat_minor": 5
}
