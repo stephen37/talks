{
 "cells": [
  {
   "cell_type": "markdown",
   "metadata": {},
   "source": [
    "# Multimodal Video RAG with Milvus and Pixtral\n",
    "\n",
    "## Goal of this Notebook\n",
    "\n",
    "In this Notebook, we will explore different techniques for video analysis and retrieval:\n",
    "\n",
    "### 1️⃣ **Process and Store Video Data:**\n",
    "Learn how to extract frames and audio from YouTube videos, and store this multimodal data efficiently in [Milvus](https://milvus.io/), a powerful vector database.\n",
    "\n",
    "### 2️⃣ **Build Multimodal Indexes:**\n",
    "Discover how to create and use indexes for both text and images using Milvus and Llama Index, enabling fast and accurate retrieval of video content.\n",
    "\n",
    "### 3️⃣ **Implement Retrieval Augmentation:**\n",
    "Explore techniques to fetch relevant images and context to enhance user queries, improving the quality and relevance of responses.\n",
    "\n",
    "### 4️⃣ **Leverage Pixtral for Multimodal Reasoning:**\n",
    "Learn to use [Pixtral](https://huggingface.co/mistralai/Pixtral-12B-2409), a state-of-the-art vision-language model from Mistral AI, for advanced multimodal reasoning and response generation.\n",
    "\n",
    "### 5️⃣ **Scale with Cloud-Based Inference:**\n",
    "Implement cloud-based inference using [Koyeb](https://www.koyeb.com/) to deploy Pixtral efficiently, we are using it in combination with vLLM.\n",
    "\n",
    "### 🔍 **Summary**\n",
    "By the end of this notebook, you'll have built a Multimodal Video RAG system that can understand and analyze video content comprehensively. You'll gain hands-on experience with Milvus for vector storage, Pixtral for multimodal reasoning, and Koyeb inference for scalable processing.\n",
    "\n",
    "This system demonstrates advanced AI capabilities including:\n",
    "- AI-powered video understanding\n",
    "- Dynamic multimodal fusion of visual, audio, and textual data\n",
    "- Context-rich prompting for improved LLM responses\n",
    "- Scalable processing of complex video content"
   ]
  },
  {
   "cell_type": "markdown",
   "metadata": {},
   "source": [
    "---"
   ]
  },
  {
   "cell_type": "markdown",
   "metadata": {},
   "source": [
    "# Milvus\n",
    "Milvus is an open-source vector database that powers AI applications with vector embeddings and similarity search.\n",
    "\n",
    "In this notebook, we use [Milvus Standalone](https://milvus.io/docs/install_standalone-docker.md). It is a single-machine server deployment. All components of Milvus Standalone are packed into a single Docker image, making deployment convenient. \n",
    "\n",
    "![Milvus](https://github.com/milvus-io/artwork/blob/master/horizontal/color/milvus-horizontal-color.png?raw=true)\n",
    "\n",
    "\n",
    "\n",
    "# Llama Index \n",
    "LlamaIndex is a data framework for your LLM application. It provides tools like:\n",
    "\n",
    "* Data connectors ingest your existing data from their native source and format.\n",
    "* Data indexes structure your data in intermediate representations that are easy and performant for LLMs to consume.\n",
    "* Engines provide natural language access to your data.\n",
    "* Agents are LLM-powered knowledge workers augmented by tools, from simple helper functions to API integrations and more.\n",
    "\n",
    "# Mistral AI \n",
    "Mistral AI is a research lab building LLMs and Embeddings Models, they recently released new versions of their models, Pixtral is their Multimodal Model of 12B parameters plus a 400M parameter vision encoder.\n",
    "\n",
    "### Architecture:\n",
    "Pixtral has two components: the Vision Encoder, which tokenizes images, and a Multimodal Transformer Decoder, which predicts the next text token given a sequence of text and images. The model is trained to predict the next text token on interleaved image and text data. This architecture allows Pixtral to process any number of images with arbitrary sizes in its large context window of 128K tokens.\n",
    "\n",
    "\n",
    "![Pixtral Architecture.png](https://mistral.ai/images/news/pixtral-12b/pixtral-model-architecture.png)"
   ]
  },
  {
   "cell_type": "markdown",
   "metadata": {},
   "source": [
    "# Overall Archicture of our Multi Modal RAG system\n",
    "\n",
    "Our MultiModal RAG system processes and analyzes video content through several key stages:\n",
    "\n",
    "1. **Video Processing**:\n",
    "   - The input video is split into two streams:\n",
    "     a) Images are extracted from the video frames\n",
    "     b) Audio is converted to text using speech recognition\n",
    "\n",
    "2. **Embedding Generation**:\n",
    "   - Images are processed using CLIP to generate image embeddings\n",
    "   - The extracted text is converted into text embeddings\n",
    "\n",
    "3. **Data Storage**:\n",
    "   - Both image and text embeddings are stored in Milvus, a vector database optimized for similarity search\n",
    "\n",
    "4. **Query Processing**:\n",
    "   - User queries are converted into embeddings\n",
    "   - A semantic search is performed on both image and text data in Milvus\n",
    "\n",
    "5. **Context Retrieval**:\n",
    "   - Milvus returns similar data (images and text) based on the query\n",
    "\n",
    "6. **Response Generation**:\n",
    "   - The retrieved context is passed to Pixtral, a vision-language model (vLLM)\n",
    "   - Pixtral generates a final response based on the query and the provided context\n",
    "\n",
    "This architecture enables our system to understand and reason about video content using both visual and textual information, providing comprehensive and context-aware responses to user queries.\n",
    "\n",
    "![MultiModal RAG Architecture](resources/multimodal_rag_architecture.png)"
   ]
  },
  {
   "cell_type": "markdown",
   "metadata": {},
   "source": [
    "## Install Dependencies"
   ]
  },
  {
   "cell_type": "code",
   "execution_count": null,
   "metadata": {
    "id": "qaXOp0foZWNe"
   },
   "outputs": [],
   "source": [
    "%pip install llama-index-vector-stores-milvus\n",
    "%pip install llama-index-multi-modal-llms-mistralai llama-index-embeddings-mistralai"
   ]
  },
  {
   "cell_type": "code",
   "execution_count": null,
   "metadata": {
    "id": "ziuyA5h-ZWNf"
   },
   "outputs": [],
   "source": [
    "%pip install llama-index-multi-modal-llms-openai\n",
    "%pip install llama-index-embeddings-clip"
   ]
  },
  {
   "cell_type": "code",
   "execution_count": null,
   "metadata": {
    "id": "oM32JRfZZWNf"
   },
   "outputs": [],
   "source": [
    "%pip install llama_index ftfy regex tqdm\n",
    "%pip install -U openai-whisper\n",
    "%pip install git+https://github.com/openai/CLIP.git\n",
    "%pip install torch torchvision\n",
    "%pip install matplotlib scikit-image\n",
    "%pip install pymilvus\n",
    "%pip install moviepy\n",
    "%pip install pytube\n",
    "%pip install pydub\n",
    "%pip install SpeechRecognition\n",
    "%pip install ffmpeg-python\n",
    "%pip install soundfile"
   ]
  },
  {
   "cell_type": "code",
   "execution_count": 1,
   "metadata": {
    "id": "nw3XYAGkZWNf"
   },
   "outputs": [],
   "source": [
    "import os\n",
    "import base64\n",
    "import json\n",
    "from pathlib import Path\n",
    "from moviepy.editor import VideoFileClip\n",
    "import speech_recognition as sr\n",
    "from openai import OpenAI\n",
    "from dotenv import load_dotenv\n",
    "from llama_index.core import SimpleDirectoryReader, StorageContext, Settings\n",
    "from llama_index.core.indices import MultiModalVectorStoreIndex\n",
    "from llama_index.vector_stores.milvus import MilvusVectorStore\n",
    "from llama_index.embeddings.mistralai import MistralAIEmbedding\n",
    "from llama_index.core.schema import ImageNode"
   ]
  },
  {
   "cell_type": "markdown",
   "metadata": {},
   "source": [
    "### Get your API Key for Mistral on https://console.mistral.ai/api-keys/\n",
    "\n",
    "Check out how to Deploy vLLM on Koyeb here: https://www.koyeb.com/deploy/vllm"
   ]
  },
  {
   "cell_type": "code",
   "execution_count": null,
   "metadata": {
    "id": "SscG-69dZWNf"
   },
   "outputs": [],
   "source": [
    "\"\"\"\n",
    "load_dotenv reads key-value pairs from a .env file and can set them as environment variables.\n",
    "This is useful to avoid leaking your API key for example :D\n",
    "\"\"\"\n",
    "import os\n",
    "\n",
    "from dotenv import load_dotenv\n",
    "\n",
    "load_dotenv()"
   ]
  },
  {
   "cell_type": "markdown",
   "metadata": {},
   "source": [
    "# Default Embedding for Images \n",
    "\n",
    "The default embedding for images is [CLIP](https://github.com/openai/CLIP) from OpenAI. LlamaIndex is using this one by default when using Images so we do not need to define it. \n",
    "\n",
    "# Default Embeddings for Text\n",
    "\n",
    "Given that we use Mistral AI Pixtral Model, we are going to use their Embedding Models as well. This embedding model is really good at Retrieval tasks, which is very useful for RAG systems.\n",
    "\n",
    "https://docs.mistral.ai/capabilities/embeddings/"
   ]
  },
  {
   "cell_type": "code",
   "execution_count": 3,
   "metadata": {},
   "outputs": [],
   "source": [
    "from llama_index.core import Settings\n",
    "from llama_index.embeddings.mistralai import MistralAIEmbedding\n",
    "\n",
    "Settings.embed_model = MistralAIEmbedding(\n",
    "    \"mistral-embed\", api_key=os.getenv(\"MISTRAL_API_KEY\")\n",
    ")"
   ]
  },
  {
   "cell_type": "markdown",
   "metadata": {},
   "source": [
    "### Download data"
   ]
  },
  {
   "cell_type": "code",
   "execution_count": 7,
   "metadata": {
    "id": "ht7UqwKtZWNg"
   },
   "outputs": [],
   "source": [
    "video_path = \"https://www.youtube.com/watch?v=d_qvLDhkg00\"\n",
    "output_video_path = \"./video_data/\"\n",
    "output_folder = \"./mixed_data/\"\n",
    "output_audio_path = \"./mixed_data/output_audio.wav\"\n",
    "\n",
    "filepath = output_video_path + \"gaussian.mp4\"\n",
    "Path(output_folder).mkdir(parents=True, exist_ok=True)"
   ]
  },
  {
   "cell_type": "markdown",
   "metadata": {
    "id": "eARltNG_ZWNg"
   },
   "source": [
    "#### Download and process videos into appropriate format for generating/storing embeddings"
   ]
  },
  {
   "cell_type": "code",
   "execution_count": 5,
   "metadata": {
    "id": "COoCioliZWNg"
   },
   "outputs": [],
   "source": [
    "import os\n",
    "\n",
    "import matplotlib.pyplot as plt\n",
    "from PIL import Image\n",
    "\n",
    "\n",
    "def plot_images(image_paths, ax=None):\n",
    "    if ax is None:\n",
    "        fig = plt.figure(figsize=(16, 9))\n",
    "        images_shown = 0\n",
    "        for img_path in image_paths:\n",
    "            if os.path.isfile(img_path):\n",
    "                image = Image.open(img_path)\n",
    "                plt.subplot(2, 3, images_shown + 1)\n",
    "                plt.imshow(image)\n",
    "                plt.xticks([])\n",
    "                plt.yticks([])\n",
    "                images_shown += 1\n",
    "                if images_shown >= 7:\n",
    "                    break\n",
    "        return fig\n",
    "    else:\n",
    "        if os.path.isfile(image_paths[0]):  # Assume single image when ax is provided\n",
    "            image = Image.open(image_paths[0])\n",
    "            ax.imshow(image)\n",
    "            ax.set_xticks([])\n",
    "            ax.set_yticks([])\n",
    "        return ax"
   ]
  },
  {
   "cell_type": "markdown",
   "metadata": {},
   "source": [
    "## Video Processing Functions\n",
    "\n",
    "The cell below defines several key functions for processing video content:\n",
    "\n",
    "* `download_video()`: Downloads a video from a given URL, with a fallback to direct download if YouTube-specific methods fail.\n",
    "\n",
    "* `video_to_images()`: Extracts frames from a video at 0.2 FPS and saves them as individual images.\n",
    "\n",
    "* `video_to_audio()`: Extracts the audio track from a video file.\n",
    "\n",
    "* `audio_to_text()`: Transcribes audio to text using the Whisper speech recognition model.\n",
    "\n",
    "These functions form the foundation of our video processing pipeline, enabling us to extract multimodal data (images and text) from video content for further analysis."
   ]
  },
  {
   "cell_type": "code",
   "execution_count": 6,
   "metadata": {
    "id": "pZY8A8_6ZWNg"
   },
   "outputs": [],
   "source": [
    "import os\n",
    "from typing import Dict\n",
    "\n",
    "import requests\n",
    "import speech_recognition as sr\n",
    "from moviepy.editor import VideoFileClip\n",
    "from pytube import YouTube\n",
    "\n",
    "\n",
    "def download_video(url: str, output_path: str) -> Dict[str, str]:\n",
    "    \"\"\"\n",
    "    Download a video from a given url and save it to the output path.\n",
    "\n",
    "    Parameters:\n",
    "    url (str): The url of the video to download.\n",
    "    output_path (str): The path to save the video to.\n",
    "\n",
    "    Returns:\n",
    "    dict: A dictionary containing the metadata of the video.\n",
    "    \"\"\"\n",
    "    try:\n",
    "        yt = YouTube(url)\n",
    "        metadata = {\"Author\": yt.author, \"Title\": yt.title, \"Views\": str(yt.views)}\n",
    "        yt.streams.get_highest_resolution().download(\n",
    "            output_path=output_path, filename=\"input_vid.mp4\"\n",
    "        )\n",
    "    except Exception as e:\n",
    "        print(f\"Error with pytube: {e}\")\n",
    "        print(\"Attempting direct download...\")\n",
    "\n",
    "        # Fallback: direct download\n",
    "        response = requests.get(url)\n",
    "        if response.status_code == 200:\n",
    "            with open(os.path.join(output_path, \"input_vid.mp4\"), \"wb\") as f:\n",
    "                f.write(response.content)\n",
    "            metadata = {\"Author\": \"Unknown\", \"Title\": \"Unknown\", \"Views\": \"Unknown\"}\n",
    "        else:\n",
    "            raise Exception(\"Failed to download video directly.\")\n",
    "\n",
    "    return metadata\n",
    "\n",
    "\n",
    "def video_to_images(video_path: str, output_folder: str) -> str:\n",
    "    local_video_path = video_path\n",
    "    if video_path.startswith(('http://', 'https://')):\n",
    "        import yt_dlp\n",
    "        ydl_opts = {\n",
    "            'format': 'best',\n",
    "            'outtmpl': os.path.join(output_folder, 'video.mp4')\n",
    "        }\n",
    "        with yt_dlp.YoutubeDL(ydl_opts) as ydl:\n",
    "            ydl.download([video_path])\n",
    "        local_video_path = os.path.join(output_folder, 'video.mp4')\n",
    "    \n",
    "    clip = VideoFileClip(local_video_path)\n",
    "    clip.write_images_sequence(os.path.join(output_folder, \"frame%04d.png\"), fps=0.2)\n",
    "    return local_video_path\n",
    "\n",
    "\n",
    "def video_to_audio(video_path: str, output_audio_path: str) -> None:\n",
    "    \"\"\"\n",
    "    Convert a video to audio and save it to the output path.\n",
    "\n",
    "    Parameters:\n",
    "    video_path (str): The path to the video file.\n",
    "    output_audio_path (str): The path to save the audio to.\n",
    "    \"\"\"\n",
    "    clip = VideoFileClip(video_path)\n",
    "    audio = clip.audio\n",
    "    audio.write_audiofile(output_audio_path)\n",
    "\n",
    "\n",
    "def audio_to_text(audio_path: str) -> str:\n",
    "    \"\"\"\n",
    "    Convert audio to text using the SpeechRecognition library.\n",
    "\n",
    "    Parameters:\n",
    "    audio_path (str): The path to the audio file.\n",
    "\n",
    "    Returns:\n",
    "    str: The text recognized from the audio.\n",
    "    \"\"\"\n",
    "    recognizer = sr.Recognizer()\n",
    "    audio = sr.AudioFile(audio_path)\n",
    "\n",
    "    with audio as source:\n",
    "        # Record the audio data\n",
    "        audio_data = recognizer.record(source)\n",
    "\n",
    "        try:\n",
    "            # Recognize the speech\n",
    "            text = recognizer.recognize_whisper(audio_data)\n",
    "        except sr.UnknownValueError:\n",
    "            print(\"Speech recognition could not understand the audio.\")\n",
    "            text = \"\"\n",
    "        except sr.RequestError as e:\n",
    "            print(f\"Could not request results from service; {e}\")\n",
    "            text = \"\"\n",
    "\n",
    "    return text"
   ]
  },
  {
   "cell_type": "markdown",
   "metadata": {},
   "source": [
    "## Processing the Video\n",
    "\n",
    "We convert our video into multiple modalities (images and text) that can be used for further analysis."
   ]
  },
  {
   "cell_type": "code",
   "execution_count": null,
   "metadata": {
    "id": "T77y8QQZZWNh"
   },
   "outputs": [],
   "source": [
    "# Clean up existing files\n",
    "if os.path.exists(output_folder):\n",
    "    import shutil\n",
    "    shutil.rmtree(output_folder)\n",
    "Path(output_folder).mkdir(parents=True, exist_ok=True)\n",
    "\n",
    "\n",
    "local_video_path = video_to_images(video_path, output_folder)\n",
    "video_to_audio(local_video_path, output_audio_path)\n",
    "text_data = audio_to_text(output_audio_path)\n",
    "with open(os.path.join(output_folder, \"output_text.txt\"), \"w\") as file:\n",
    "    file.write(text_data)\n",
    "os.remove(output_audio_path)"
   ]
  },
  {
   "cell_type": "markdown",
   "metadata": {
    "id": "cCTG3EQYZWNh"
   },
   "source": [
    "## Instanciate Milvus and Load Data\n",
    "Milvus is a popular open-source vector database that powers AI applications with highly performant and scalable vector similarity search.\n",
    "\n",
    "* Setting the uri as a local file, e.g.`./milvus.db`, is the most convenient method, as it automatically utilizes Milvus Lite to store all data in this file.\n",
    "* If you have large scale of data, say more than a million vectors, you can set up a more performant Milvus server on [Docker or Kubernetes](https://milvus.io/docs/quickstart.md). In this setup, please use the server uri, e.g.`http://localhost:19530`, as your uri.\n",
    "* If you want to use [Zilliz Cloud](https://zilliz.com/cloud), the fully managed cloud service for Milvus, adjust the uri and token, which correspond to the [Public Endpoint and API key](https://docs.zilliz.com/docs/on-zilliz-cloud-console#cluster-details) in Zilliz Cloud.\n",
    "\n",
    "#### Create the multi-modal index\n",
    "\n",
    "`MultiModalVectorStoreIndex` supports building separate vector stores for image and text embedding vector stores. "
   ]
  },
  {
   "cell_type": "code",
   "execution_count": 9,
   "metadata": {
    "id": "jsMnELbwZWNh"
   },
   "outputs": [],
   "source": [
    "from llama_index.core import SimpleDirectoryReader, StorageContext\n",
    "from llama_index.core.indices import MultiModalVectorStoreIndex\n",
    "from llama_index.vector_stores.milvus import MilvusVectorStore\n",
    "\n",
    "text_store = MilvusVectorStore(\n",
    "    uri=\"http://127.0.0.1:19530\",\n",
    "    collection_name=\"text_collection\",\n",
    "    overwrite=True,\n",
    "    dim=1024,\n",
    ")\n",
    "image_store = MilvusVectorStore(\n",
    "    uri=\"http://127.0.0.1:19530\",\n",
    "    collection_name=\"image_collection\",\n",
    "    overwrite=True,\n",
    "    dim=512,\n",
    ")\n",
    "\n",
    "storage_context = StorageContext.from_defaults(\n",
    "    vector_store=text_store, image_store=image_store\n",
    ")\n",
    "\n",
    "documents = SimpleDirectoryReader(output_folder).load_data()\n",
    "\n",
    "index = MultiModalVectorStoreIndex.from_documents(\n",
    "    documents,\n",
    "    storage_context=storage_context,\n",
    ")"
   ]
  },
  {
   "cell_type": "markdown",
   "metadata": {
    "id": "MLWQ6VQIZWNh"
   },
   "source": [
    "#### Use index as retriever to fetch top k (5 in this example) results from the multimodal vector index"
   ]
  },
  {
   "cell_type": "code",
   "execution_count": 10,
   "metadata": {
    "id": "R_5s4_W9ZWNh"
   },
   "outputs": [],
   "source": [
    "retriever_engine = index.as_retriever(similarity_top_k=5, image_similarity_top_k=5)"
   ]
  },
  {
   "cell_type": "markdown",
   "metadata": {
    "id": "UHPeC6ZYZWNh"
   },
   "source": [
    "#### Set the RAG prompt template\n",
    "\n",
    "We're preparing the prompt template for our RAG system:\n",
    "\n",
    "1. We define metadata for the video, including author, title, and view count.\n",
    "2. We create a structured prompt template (`qa_tmpl_str`) that includes:\n",
    "   - Instructions for the AI model\n",
    "   - Placeholders for context from the video\n",
    "   - Video metadata\n",
    "   - The user's query\n",
    "   \n",
    "This template will be used to format prompts for the AI model, ensuring it has all necessary information to provide accurate and contextual responses based on the video content."
   ]
  },
  {
   "cell_type": "code",
   "execution_count": 11,
   "metadata": {
    "id": "Aw639uNwZWNh"
   },
   "outputs": [],
   "source": [
    "import json\n",
    "\n",
    "metadata_vid = {}\n",
    "# metadata_vid = {\n",
    "#     \"Author\": \"3Blue1Brown\",\n",
    "#     \"Title\": \"A pretty reason why Gaussian + Gaussian = Gaussian\",\n",
    "#     \"Views\": 803400,\n",
    "# }\n",
    "# metadata_str = json.dumps(metadata_vid)\n",
    "\n",
    "qa_tmpl_str = (\n",
    "    \"Given the provided information, including relevant images and retrieved context from the video, \\\n",
    " accurately and precisely answer the query without any additional prior knowledge.\\n\"\n",
    "    \"Please ensure honesty and responsibility.\"\n",
    "    \"---------------------\\n\"\n",
    "    \"Context: {context_str}\\n\"\n",
    "    \"Metadata for video: {metadata_str} \\n\"\n",
    "    \"---------------------\\n\"\n",
    "    \"Query: {query_str}\\n\"\n",
    "    \"Answer: \"\n",
    ")"
   ]
  },
  {
   "cell_type": "markdown",
   "metadata": {
    "id": "eFCq4VINZWNh"
   },
   "source": [
    "#### Retrieve most similar text/image embeddings based on user query from Milvus\n",
    "\n",
    "This cell defines a `retrieve` function that:\n",
    "\n",
    "1. Takes a query string and uses the retriever engine to find relevant content\n",
    "2. Processes the retrieval results, separating them into:\n",
    "   - Image files (stored as file paths)\n",
    "   - Text content\n",
    "3. Displays text content for immediate review\n",
    "4. Returns lists of retrieved image paths and text content\n",
    "\n",
    "This function is crucial for our RAG system, as it fetches the most relevant information from our Milvus database based on the user's query, preparing both visual and textual context for the AI model to use in generating a response."
   ]
  },
  {
   "cell_type": "code",
   "execution_count": 12,
   "metadata": {
    "id": "SArglVeWZWNh"
   },
   "outputs": [],
   "source": [
    "from llama_index.core.response.notebook_utils import display_source_node\n",
    "from llama_index.core.schema import ImageNode\n",
    "\n",
    "\n",
    "def retrieve(retriever_engine, query_str):\n",
    "    retrieval_results = retriever_engine.retrieve(query_str)\n",
    "\n",
    "    retrieved_image = []\n",
    "    retrieved_text = []\n",
    "    for res_node in retrieval_results:\n",
    "        if isinstance(res_node.node, ImageNode):\n",
    "            retrieved_image.append(res_node.node.metadata[\"file_path\"])\n",
    "        else:\n",
    "            display_source_node(res_node, source_length=200)\n",
    "            retrieved_text.append(res_node.text)\n",
    "\n",
    "    return retrieved_image, retrieved_text"
   ]
  },
  {
   "cell_type": "markdown",
   "metadata": {
    "id": "qC4Y2G7lZWNh"
   },
   "source": [
    "#### Fetching Multimodal Context for Our Query\n",
    "\n",
    "Here's where the magic happens! We're:\n",
    "\n",
    "1. Defining query about Gaussian functions from the video\n",
    "2. Retrieving relevant images and text snippets\n",
    "3. Bundling everything into a rich, multimodal context\n"
   ]
  },
  {
   "cell_type": "code",
   "execution_count": null,
   "metadata": {
    "id": "SS7wRvgIZWNh",
    "outputId": "7743b999-44cb-4f37-a4ab-a235316133de"
   },
   "outputs": [],
   "source": [
    "query_str = \"Using examples from video, explain all things covered in the video regarding the gaussian function\"\n",
    "\n",
    "img, txt = retrieve(retriever_engine=retriever_engine, query_str=query_str)\n",
    "image_documents = SimpleDirectoryReader(\n",
    "    input_dir=output_folder, input_files=img\n",
    ").load_data()\n",
    "context_str = \"\".join(txt)\n",
    "plot_images(img)"
   ]
  },
  {
   "cell_type": "markdown",
   "metadata": {
    "id": "mZfCi8agZWNi",
    "jp-MarkdownHeadingCollapsed": true
   },
   "source": [
    "#### Generate final response using Pixtral"
   ]
  },
  {
   "cell_type": "code",
   "execution_count": null,
   "metadata": {
    "id": "GB4NbNyDZWNi",
    "outputId": "16c40e9a-7284-4e76-87bf-084b2c6363b2"
   },
   "outputs": [],
   "source": [
    "from llama_index.multi_modal_llms.mistralai import MistralAIMultiModal\n",
    "\n",
    "pixtral_llm = MistralAIMultiModal(model=\"pixtral-12b-2409\", max_new_tokens=300)\n",
    "\n",
    "response_1 = pixtral_llm.complete(\n",
    "    prompt=qa_tmpl_str.format(\n",
    "        context_str=context_str, query_str=query_str, metadata_str=metadata_str\n",
    "    ),\n",
    "    image_documents=image_documents,\n",
    ")\n",
    "\n",
    "pprint(response_1.text)"
   ]
  },
  {
   "cell_type": "markdown",
   "metadata": {},
   "source": [
    "# Call Pixtral with vLLM on Koyeb\n",
    "\n",
    "This is where we use the power of Pixtral, our multimodal AI model! Here's what's happening:\n",
    "1. We set up a connection to Pixtral running on Koyeb's cloud infrastructure with vLLM.\n",
    "2. For each image, we:\n",
    "   - Encode it to base64 format\n",
    "   - Write a message combining our text query, context, and the image\n",
    "   - Send it off to Pixtral for analysis\n",
    "3. Pixtral then works its magic, interpreting both the text and image to generate a response.\n"
   ]
  },
  {
   "cell_type": "code",
   "execution_count": 14,
   "metadata": {},
   "outputs": [],
   "source": [
    "import base64\n",
    "\n",
    "from openai import OpenAI\n",
    "\n",
    "\n",
    "def process_query_with_single_image(\n",
    "    query_str, context_str, metadata_str, image_document\n",
    "):\n",
    "    client = OpenAI(\n",
    "        base_url=os.getenv(\"KOYEB_ENDPOINT\"),\n",
    "        api_key=os.getenv(\"KOYEB_TOKEN\"),\n",
    "    )\n",
    "\n",
    "    with open(image_document.image_path, \"rb\") as image_file:\n",
    "        image_base64 = base64.b64encode(image_file.read()).decode(\"utf-8\")\n",
    "\n",
    "    messages = [\n",
    "        {\n",
    "            \"role\": \"user\",\n",
    "            \"content\": [\n",
    "                {\n",
    "                    \"type\": \"text\",\n",
    "                    \"text\": qa_tmpl_str.format(\n",
    "                        context_str=context_str,\n",
    "                        query_str=query_str,\n",
    "                        metadata_str=metadata_str,\n",
    "                    ),\n",
    "                },\n",
    "                {\n",
    "                    \"type\": \"image_url\",\n",
    "                    \"image_url\": {\"url\": f\"data:image/jpeg;base64,{image_base64}\"},\n",
    "                },\n",
    "            ],\n",
    "        }\n",
    "    ]\n",
    "\n",
    "    try:\n",
    "        completion = client.chat.completions.create(\n",
    "            model=\"mistralai/Pixtral-12B-2409\", messages=messages, max_tokens=300\n",
    "        )\n",
    "        response = completion.choices[0].message.content\n",
    "        return response\n",
    "    except Exception as e:\n",
    "        return f\"Error processing image {image_document.image_path}: {str(e)}\""
   ]
  },
  {
   "cell_type": "code",
   "execution_count": 15,
   "metadata": {},
   "outputs": [],
   "source": [
    "import matplotlib.pyplot as plt\n",
    "from IPython.display import display, Markdown\n",
    "\n",
    "def plot_images(image_paths, ax=None):\n",
    "    if ax is None:\n",
    "        fig = plt.figure(figsize=(16, 9))\n",
    "        images_shown = 0\n",
    "        for img_path in image_paths:\n",
    "            if os.path.isfile(img_path):\n",
    "                image = Image.open(img_path)\n",
    "                plt.subplot(2, 3, images_shown + 1)\n",
    "                plt.imshow(image)\n",
    "                plt.xticks([])\n",
    "                plt.yticks([])\n",
    "                images_shown += 1\n",
    "                if images_shown >= 7:\n",
    "                    break\n",
    "        return fig\n",
    "    else:\n",
    "        if os.path.isfile(image_paths[0]):  # Assume single image when ax is provided\n",
    "            image = Image.open(image_paths[0])\n",
    "            ax.imshow(image)\n",
    "            ax.set_xticks([])\n",
    "            ax.set_yticks([])\n",
    "        return ax\n",
    "\n",
    "def process_query_with_multiple_images(query_str, context_str, metadata_str, image_documents):\n",
    "    for i, img_doc in enumerate(image_documents):\n",
    "        response = process_query_with_single_image(query_str, context_str, metadata_str, img_doc)\n",
    "        \n",
    "        fig, (ax1, ax2) = plt.subplots(1, 2, figsize=(20, 10))\n",
    "        \n",
    "        plot_images([img_doc.image_path], ax=ax1)\n",
    "        ax1.set_title(f\"Frame {i+1}\")\n",
    "        \n",
    "        ax2.axis('off')\n",
    "        ax2.text(0, 1, f\"Analysis for Frame {i+1}:\\n\\n{response}\", \n",
    "                 verticalalignment='top', wrap=True, fontsize=10)\n",
    "        \n",
    "        plt.tight_layout()\n",
    "        display(fig)\n",
    "        plt.close(fig)\n",
    "        \n",
    "        display(Markdown(\"---\")) "
   ]
  },
  {
   "cell_type": "code",
   "execution_count": null,
   "metadata": {},
   "outputs": [],
   "source": [
    "query_str = \"Using examples from video, explain all things covered in the video regarding the gaussian function\"\n",
    "\n",
    "metadata_str = \"{}\"\n",
    "response = process_query_with_multiple_images(\n",
    "    query_str, context_str, metadata_str, image_documents\n",
    ")\n",
    "print(response)"
   ]
  },
  {
   "cell_type": "markdown",
   "metadata": {},
   "source": [
    "--- "
   ]
  },
  {
   "cell_type": "markdown",
   "metadata": {},
   "source": [
    "# Conclusion\n",
    "In this notebook, we've explored the creation of a powerful Multimodal Video RAG system using Pixtral and Milvus. We've demonstrated how to:\n",
    "\n",
    "1. Process and store video data.\n",
    "2. Build multimodal indexes for efficient retrieval of both text and images with Milvus\n",
    "3. Implement retrieval augmentation to enhance user queries\n",
    "4. Leverage Pixtral, a state-of-the-art vision-language model, for advanced multimodal reasoning\n",
    "5. Scale our system with Koyeb and vLLM\n",
    "\n",
    "By combining those, we've created a system capable of understanding and analyzing video content."
   ]
  },
  {
   "attachments": {
    "image.png": {
     "image/png": "[encoded data removed]"
    }
   },
   "cell_type": "markdown",
   "metadata": {},
   "source": [
    "# ⭐️ Github\n",
    "We hope you found this tutorial on building a Multimodal Video RAG system with Milvus, Pixtral, and Koyeb informative and inspiring. If you enjoyed this project and found it useful, please consider giving us a star on [Github](https://github.com/milvus-io/milvus)! ⭐\n",
    "\n",
    "![image.png](attachment:image.png)"
   ]
  },
  {
   "attachments": {
    "image.png": {
     "image/png": "[encoded data removed]"
    }
   },
   "cell_type": "markdown",
   "metadata": {},
   "source": [
    "# 🤝 Add me on Linkedin!\n",
    "If you have some questions related to Milvus, GenAI, etc, I am Stephen Batifol, you can add me on [LinkedIn](https://www.linkedin.com/in/stephen-batifol/) and I'll gladly help you.\n",
    "\n",
    "![image.png](attachment:image.png)"
   ]
  }
 ],
 "metadata": {
  "colab": {
   "provenance": []
  },
  "kernelspec": {
   "display_name": "Python 3 (ipykernel)",
   "language": "python",
   "name": "python3"
  },
  "language_info": {
   "codemirror_mode": {
    "name": "ipython",
    "version": 3
   },
   "file_extension": ".py",
   "mimetype": "text/x-python",
   "name": "python",
   "nbconvert_exporter": "python",
   "pygments_lexer": "ipython3",
   "version": "3.11.8"
  }
 },
 "nbformat": 4,
 "nbformat_minor": 4
}
